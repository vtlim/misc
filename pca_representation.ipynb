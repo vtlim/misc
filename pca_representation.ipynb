{
 "cells": [
  {
   "cell_type": "code",
   "execution_count": 245,
   "metadata": {
    "collapsed": true
   },
   "outputs": [],
   "source": [
    "# from session 1 of advanced predictive modeling\n",
    "\n",
    "from IPython.display import Image\n",
    "import matplotlib.pyplot as plt\n",
    "import numpy as np\n",
    "import pandas as pd\n",
    "import time\n",
    "import math as math\n",
    "%matplotlib inline"
   ]
  },
  {
   "cell_type": "code",
   "execution_count": 246,
   "metadata": {
    "collapsed": false
   },
   "outputs": [],
   "source": [
    "# https://github.com/magee256/TurbomoleScripts/blob/master/SetUp/add_ligand/add_ligand.py\n",
    "\n",
    "# add arguments for original coordinates, and both components of transformation_matrix, \n",
    "def rotate_frag(coordinates, rots):\n",
    "    \"\"\"\n",
    "    Returns coordinates rotated counterclockwise about \n",
    "    a rotation axis, with both degree rotated and axis direction \n",
    "    specified by the Euler-Rodrigues formula vector parameters in rots.\n",
    "    \n",
    "    Parameters\n",
    "    ----------\n",
    "    coordinates: numpy array of shape (N,3)\n",
    "    rots: numpy array of shape (_,_) , representing coefficients of axis of rotation * sin(theta/2), see formula\n",
    "    \n",
    "    Returns\n",
    "    -------\n",
    "    Transformed `coordinates` rotated about the rotation axis `rots`\n",
    "    \n",
    "    \"\"\"\n",
    "    aa = 1 - np.dot(rots,rots)\n",
    "    print \"aa is %f \\n\" % aa\n",
    "    a = math.sqrt(aa)\n",
    "    print \"a is %f \\n\" % a\n",
    "    bb, cc, dd = rots[0]*rots[0], rots[1]*rots[1], rots[2]*rots[2]\n",
    "    bc, ad, ac, ab, bd, cd = rots[0]*rots[1], a*rots[2], a*rots[1], \\\n",
    "                             a*rots[0], rots[0]*rots[2], rots[1]*rots[2]\n",
    "    r_mat = np.array([[aa+bb-cc-dd, 2*(bc+ad), 2*(bd-ac)],\n",
    "                    [2*(bc-ad), aa+cc-bb-dd, 2*(cd+ab)],\n",
    "                    [2*(bd+ac), 2*(cd-ab), aa+dd-bb-cc]])\n",
    "\n",
    "    return np.dot(coordinates,r_mat.T)"
   ]
  },
  {
   "cell_type": "code",
   "execution_count": 247,
   "metadata": {
    "collapsed": false
   },
   "outputs": [
    {
     "name": "stdout",
     "output_type": "stream",
     "text": [
      "Coordinate dimensions:  (13, 3) \n",
      "\n"
     ]
    }
   ],
   "source": [
    "# load in coordinates\n",
    "rough=np.array(\n",
    "[[-2.00861,   2.12329,   2.71423],\n",
    " [ -2.13619,   2.02111,   3.52290],\n",
    " [ -1.81206,   1.37010,   3.91266],\n",
    "  [-1.36039,   0.82134,   3.49370],\n",
    "  [-1.23285,   0.92355,   2.68512],\n",
    "  [-1.55698,   1.57456,   2.29536],\n",
    "  [-1.33903,   1.53045,   1.50082],\n",
    "  [-0.81464,   0.47720,   2.13140],\n",
    "  [-0.88026,   0.85225,   1.39957],\n",
    "  [-0.54584,   0.59443,   0.69083],\n",
    "  [-0.65931,   1.02926,  -0.00106],\n",
    "  [-1.10720,   1.72192,   0.01579],\n",
    "  [-0.34231,   0.80587,  -0.72927]])\n",
    "\n",
    "print \"Coordinate dimensions: \", rough.shape,'\\n'"
   ]
  },
  {
   "cell_type": "code",
   "execution_count": 248,
   "metadata": {
    "collapsed": false
   },
   "outputs": [
    {
     "name": "stdout",
     "output_type": "stream",
     "text": [
      "Center of original coordinates: \n",
      "[-1.21505154  1.21887154  1.81785   ] \n",
      "\n",
      "Center of scaled coordinates: \n",
      "[ -8.54017711e-17  -2.64745490e-16   3.41607085e-17] \n",
      "\n",
      "[[-0.79355846  0.90441846  0.89638   ]\n",
      " [-0.92113846  0.80223846  1.70505   ]\n",
      " [-0.59700846  0.15122846  2.09481   ]\n",
      " [-0.14533846 -0.39753154  1.67585   ]\n",
      " [-0.01779846 -0.29532154  0.86727   ]\n",
      " [-0.34192846  0.35568846  0.47751   ]\n",
      " [-0.12397846  0.31157846 -0.31703   ]\n",
      " [ 0.40041154 -0.74167154  0.31355   ]\n",
      " [ 0.33479154 -0.36662154 -0.41828   ]\n",
      " [ 0.66921154 -0.62444154 -1.12702   ]\n",
      " [ 0.55574154 -0.18961154 -1.81891   ]\n",
      " [ 0.10785154  0.50304846 -1.80206   ]\n",
      " [ 0.87274154 -0.41300154 -2.54712   ]]\n"
     ]
    }
   ],
   "source": [
    "# find center of coordinates\n",
    "centroid = np.mean(rough,axis=0)\n",
    "\n",
    "# scale center to origin\n",
    "scaled = np.add(rough,-centroid)\n",
    "\n",
    "print \"Center of original coordinates: \\n\", centroid,'\\n'\n",
    "print \"Center of scaled coordinates: \\n\", np.mean(scaled,axis=0),'\\n'\n",
    "print scaled"
   ]
  },
  {
   "cell_type": "code",
   "execution_count": 249,
   "metadata": {
    "collapsed": false
   },
   "outputs": [
    {
     "name": "stdout",
     "output_type": "stream",
     "text": [
      "Transformation matrix: \n",
      "[[ 0.31031726 -0.13361454 -0.94119623]\n",
      " [ 0.47152379 -0.83806293  0.27443731]] \n",
      "\n",
      "Matrix dimensions:  (2, 3) \n",
      "\n",
      "[[  1.00000000e+00  -1.66725494e-16]\n",
      " [ -1.66725494e-16   1.00000000e+00]]\n"
     ]
    }
   ],
   "source": [
    "from sklearn.decomposition import PCA\n",
    "\n",
    "# initialize and train PCA model on original coordinates\n",
    "# get top 2 principal components of the coordinate matrix\n",
    "pca = PCA(n_components=2)\n",
    "reduced = pca.fit_transform(scaled)\n",
    "\n",
    "# get matrix of the pca eigenvectors\n",
    "transformation_mat = pca.components_\n",
    "print \"Transformation matrix: \\n\", transformation_mat,'\\n'\n",
    "print \"Matrix dimensions: \", transformation_mat.shape,'\\n'\n",
    "\n",
    "# check that vectors are normalized\n",
    "print np.dot(transformation_mat,transformation_mat.T)"
   ]
  },
  {
   "cell_type": "code",
   "execution_count": 250,
   "metadata": {
    "collapsed": false
   },
   "outputs": [
    {
     "name": "stdout",
     "output_type": "stream",
     "text": [
      "component 1:  [ 0.31031726 -0.13361454 -0.94119623] \n",
      "\n",
      "0.344841367698\n",
      "bcd:  [ 0.         -0.58140258  0.08253734] \n",
      "\n",
      "aa is 0.655159 \n",
      "\n",
      "a is 0.809419 \n",
      "\n",
      "aa is 0.655159 \n",
      "\n",
      "a is 0.809419 \n",
      "\n",
      "[[-0.80740639 -0.0829258  -0.58413888]\n",
      " [ 0.29264395 -0.91598598 -0.27446166]]\n"
     ]
    }
   ],
   "source": [
    "# get the angle between two vectors, component 1 from PCA, and x-axis (1,0,0)\n",
    "# but really we're getting sin(theta/2)\n",
    "# https://en.wikipedia.org/wiki/Euler%E2%80%93Rodrigues_formula\n",
    "u=transformation_mat[0,:]\n",
    "print \"component 1: \",u,\"\\n\"\n",
    "v=np.array([1,0,0])\n",
    "sinHalfAng = math.sqrt((1-np.dot(u,v))/2)\n",
    "\n",
    "# get x axis of rotation\n",
    "xaxis = np.cross(u,v)\n",
    "xaxis /= math.sqrt(np.dot(xaxis,xaxis)) # normalize\n",
    "bcd = xaxis * sinHalfAng\n",
    "print np.dot(bcd,bcd)\n",
    "print \"bcd: \",bcd,\"\\n\"\n",
    "\n",
    "# perform rotation\n",
    "scaledx = rotate_frag(scaled, bcd)\n",
    "tmatx = rotate_frag(transformation_mat, bcd)\n",
    "print tmatx"
   ]
  },
  {
   "cell_type": "code",
   "execution_count": 251,
   "metadata": {
    "collapsed": false
   },
   "outputs": [
    {
     "name": "stdout",
     "output_type": "stream",
     "text": [
      "component 2:  [ 0.47152379 -0.83806293  0.27443731] \n",
      "\n",
      "0.273550196655\n",
      "bcd:  [-0.26309243  0.          0.45203161] \n",
      "\n",
      "aa is 0.726450 \n",
      "\n",
      "a is 0.852320 \n",
      "\n",
      "aa is 0.726450 \n",
      "\n",
      "a is 0.852320 \n",
      "\n",
      "[[-0.40240742  0.84656449 -0.34842049]\n",
      " [-0.46748239 -0.51725687 -0.71687206]]\n"
     ]
    }
   ],
   "source": [
    "# now do all the same with y-axis (0,1,0)\n",
    "\n",
    "# get rotation angle\n",
    "u=transformation_mat[1,:]\n",
    "#u=tmatx[1,:]\n",
    "print \"component 2: \",u,\"\\n\"\n",
    "v=np.array([0,1,0])\n",
    "sinHalfAng = math.sqrt((1-np.dot(u,v))/2)\n",
    "\n",
    "# get y axis of rotation\n",
    "yaxis = np.cross(u,v)\n",
    "yaxis /= math.sqrt(np.dot(xaxis,xaxis)) # normalize\n",
    "bcd = yaxis * sinHalfAng\n",
    "print np.dot(bcd,bcd)\n",
    "print \"bcd: \",bcd,\"\\n\"\n",
    "\n",
    "# perform rotation\n",
    "scaledxy = rotate_frag(scaledx, bcd)\n",
    "tmatxy = rotate_frag(tmatx, bcd)\n",
    "print tmatxy"
   ]
  },
  {
   "cell_type": "code",
   "execution_count": 252,
   "metadata": {
    "collapsed": false
   },
   "outputs": [
    {
     "name": "stdout",
     "output_type": "stream",
     "text": [
      "(13, 3)\n",
      "[[-0.79355846  0.90441846  0.89638   ]\n",
      " [-0.92113846  0.80223846  1.70505   ]\n",
      " [-0.59700846  0.15122846  2.09481   ]\n",
      " [-0.14533846 -0.39753154  1.67585   ]\n",
      " [-0.01779846 -0.29532154  0.86727   ]\n",
      " [-0.34192846  0.35568846  0.47751   ]\n",
      " [-0.12397846  0.31157846 -0.31703   ]\n",
      " [ 0.40041154 -0.74167154  0.31355   ]\n",
      " [ 0.33479154 -0.36662154 -0.41828   ]\n",
      " [ 0.66921154 -0.62444154 -1.12702   ]\n",
      " [ 0.55574154 -0.18961154 -1.81891   ]\n",
      " [ 0.10785154  0.50304846 -1.80206   ]\n",
      " [ 0.87274154 -0.41300154 -2.54712   ]] \n",
      "\n",
      "[[ 0.71825804  0.91209693  0.95046802]\n",
      " [ 1.42613219  0.75074368  1.3423148 ]\n",
      " [ 1.80657157  0.02788794  1.22598512]\n",
      " [ 1.47908668 -0.53353536  0.71782339]\n",
      " [ 0.77128884 -0.37215581  0.32604054]\n",
      " [ 0.39084946  0.35069993  0.44237022]\n",
      " [-0.29522869  0.35432549 -0.01591499]\n",
      " [ 0.32026859 -0.81516011 -0.20411198]\n",
      " [-0.33877793 -0.36621504 -0.41541659]\n",
      " [-0.93651355 -0.59718445 -0.93501791]\n",
      " [-1.56482991 -0.08671365 -1.09408541]\n",
      " [-1.5954093   0.65473641 -0.73355254]\n",
      " [-2.18169599 -0.27952597 -1.60690267]] \n",
      "\n",
      "[[ 0.90147767 -0.56663038  1.05710591]\n",
      " [ 1.10253574 -1.36089527  1.15397449]\n",
      " [ 0.79817459 -1.92925313  0.6390757 ]\n",
      " [ 0.29278324 -1.70327824  0.02736847]\n",
      " [ 0.09177535 -0.90908891 -0.06945139]\n",
      " [ 0.3961365  -0.34073104  0.4454474 ]\n",
      " [ 0.1022324   0.39510027  0.21541618]\n",
      " [-0.39018828 -0.52442937 -0.61761365]\n",
      " [-0.38371096  0.28149236 -0.44156861]\n",
      " [-0.79155836  0.87050217 -0.85065077]\n",
      " [-0.73192519  1.6571825  -0.60931638]\n",
      " [-0.26443601  1.85485688  0.04110345]\n",
      " [-1.1232967   2.27517215 -0.99089079]] \n",
      "\n"
     ]
    }
   ],
   "source": [
    "print scaled.shape\n",
    "print scaled,'\\n'\n",
    "print scaledx,'\\n'\n",
    "print scaledxy,'\\n'"
   ]
  }
 ],
 "metadata": {
  "anaconda-cloud": {},
  "kernelspec": {
   "display_name": "Python [default]",
   "language": "python",
   "name": "python2"
  },
  "language_info": {
   "codemirror_mode": {
    "name": "ipython",
    "version": 2
   },
   "file_extension": ".py",
   "mimetype": "text/x-python",
   "name": "python",
   "nbconvert_exporter": "python",
   "pygments_lexer": "ipython2",
   "version": "2.7.12"
  }
 },
 "nbformat": 4,
 "nbformat_minor": 1
}
