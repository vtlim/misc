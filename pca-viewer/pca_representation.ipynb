{
 "cells": [
  {
   "cell_type": "code",
   "execution_count": 2,
   "metadata": {
    "collapsed": true
   },
   "outputs": [],
   "source": [
    "# from session 1 of advanced predictive modeling\n",
    "\n",
    "from IPython.display import Image\n",
    "import matplotlib.pyplot as plt\n",
    "import numpy as np\n",
    "import pandas as pd\n",
    "import time\n",
    "import math as math\n",
    "%matplotlib inline"
   ]
  },
  {
   "cell_type": "code",
   "execution_count": 3,
   "metadata": {
    "collapsed": false
   },
   "outputs": [],
   "source": [
    "# https://github.com/magee256/TurbomoleScripts/blob/master/SetUp/add_ligand/add_ligand.py\n",
    "\n",
    "# add arguments for original coordinates, and both components of principle_comps, \n",
    "def rotate_frag(coordinates, rots):\n",
    "    \"\"\"\n",
    "    Returns coordinates rotated counterclockwise about \n",
    "    a rotation axis, with both degree rotated and axis direction \n",
    "    specified by the Euler-Rodrigues formula vector parameters in rots.\n",
    "    \n",
    "    Parameters\n",
    "    ----------\n",
    "    coordinates: numpy array of shape (N,3)\n",
    "    rots: numpy array of shape (_,_) , representing coefficients of axis of rotation * sin(theta/2), see formula\n",
    "    \n",
    "    Returns\n",
    "    -------\n",
    "    Transformed `coordinates` rotated about the rotation axis `rots`\n",
    "    \n",
    "    \"\"\"\n",
    "    aa = 1 - np.dot(rots,rots)\n",
    "    print \"aa is %f \\n\" % aa\n",
    "    a = math.sqrt(aa)\n",
    "    print \"a is %f \\n\" % a\n",
    "    bb, cc, dd = rots[0]*rots[0], rots[1]*rots[1], rots[2]*rots[2]\n",
    "    bc, ad, ac, ab, bd, cd = rots[0]*rots[1], a*rots[2], a*rots[1], \\\n",
    "                             a*rots[0], rots[0]*rots[2], rots[1]*rots[2]\n",
    "    r_mat = np.array([[aa+bb-cc-dd, 2*(bc+ad), 2*(bd-ac)],\n",
    "                    [2*(bc-ad), aa+cc-bb-dd, 2*(cd+ab)],\n",
    "                    [2*(bd+ac), 2*(cd-ab), aa+dd-bb-cc]])\n",
    "\n",
    "    return np.dot(coordinates,r_mat.T)"
   ]
  },
  {
   "cell_type": "code",
   "execution_count": 4,
   "metadata": {
    "collapsed": false
   },
   "outputs": [
    {
     "name": "stdout",
     "output_type": "stream",
     "text": [
      "Coordinate dimensions:  (13, 3) \n",
      "\n"
     ]
    }
   ],
   "source": [
    "# load in coordinates\n",
    "rough=np.array(\n",
    "[[-2.00861,   2.12329,   2.71423],\n",
    " [ -2.13619,   2.02111,   3.52290],\n",
    " [ -1.81206,   1.37010,   3.91266],\n",
    "  [-1.36039,   0.82134,   3.49370],\n",
    "  [-1.23285,   0.92355,   2.68512],\n",
    "  [-1.55698,   1.57456,   2.29536],\n",
    "  [-1.33903,   1.53045,   1.50082],\n",
    "  [-0.81464,   0.47720,   2.13140],\n",
    "  [-0.88026,   0.85225,   1.39957],\n",
    "  [-0.54584,   0.59443,   0.69083],\n",
    "  [-0.65931,   1.02926,  -0.00106],\n",
    "  [-1.10720,   1.72192,   0.01579],\n",
    "  [-0.34231,   0.80587,  -0.72927]])\n",
    "\n",
    "print \"Coordinate dimensions: \", rough.shape,'\\n'"
   ]
  },
  {
   "cell_type": "code",
   "execution_count": 5,
   "metadata": {
    "collapsed": false
   },
   "outputs": [
    {
     "name": "stdout",
     "output_type": "stream",
     "text": [
      "Center of original coordinates: \n",
      "[-1.21505154  1.21887154  1.81785   ] \n",
      "\n",
      "Center of translated coordinates: \n",
      "[ -8.54017711e-17  -2.64745490e-16   3.41607085e-17] \n",
      "\n",
      "[[-0.79355846  0.90441846  0.89638   ]\n",
      " [-0.92113846  0.80223846  1.70505   ]\n",
      " [-0.59700846  0.15122846  2.09481   ]\n",
      " [-0.14533846 -0.39753154  1.67585   ]\n",
      " [-0.01779846 -0.29532154  0.86727   ]\n",
      " [-0.34192846  0.35568846  0.47751   ]\n",
      " [-0.12397846  0.31157846 -0.31703   ]\n",
      " [ 0.40041154 -0.74167154  0.31355   ]\n",
      " [ 0.33479154 -0.36662154 -0.41828   ]\n",
      " [ 0.66921154 -0.62444154 -1.12702   ]\n",
      " [ 0.55574154 -0.18961154 -1.81891   ]\n",
      " [ 0.10785154  0.50304846 -1.80206   ]\n",
      " [ 0.87274154 -0.41300154 -2.54712   ]]\n"
     ]
    }
   ],
   "source": [
    "# find center of volume\n",
    "centroid = np.mean(rough,axis=0)\n",
    "\n",
    "# translate center volume to origin\n",
    "scaled = np.add(rough,-centroid)\n",
    "\n",
    "print \"Center of original coordinates: \\n\", centroid,'\\n'\n",
    "print \"Center of translated coordinates: \\n\", np.mean(scaled,axis=0),'\\n'\n",
    "print scaled"
   ]
  },
  {
   "cell_type": "code",
   "execution_count": 6,
   "metadata": {
    "collapsed": false
   },
   "outputs": [
    {
     "name": "stdout",
     "output_type": "stream",
     "text": [
      "Transformation matrix: \n",
      "[[ 0.31031726 -0.13361454 -0.94119623]\n",
      " [ 0.47152379 -0.83806293  0.27443731]] \n",
      "\n",
      "Matrix dimensions:  (2, 3) \n",
      "\n",
      "[[  1.00000000e+00  -1.66533454e-16]\n",
      " [ -1.66533454e-16   1.00000000e+00]]\n"
     ]
    }
   ],
   "source": [
    "from sklearn.decomposition import PCA\n",
    "\n",
    "# initialize and train PCA model on original coordinates\n",
    "# get top 2 principal components of the coordinate matrix\n",
    "pca = PCA(n_components=2)\n",
    "reduced = pca.fit_transform(scaled)\n",
    "\n",
    "# get matrix of the pca eigenvectors\n",
    "principle_comps = pca.components_\n",
    "print \"Transformation matrix: \\n\", principle_comps,'\\n'\n",
    "print \"Matrix dimensions: \", principle_comps.shape,'\\n'\n",
    "\n",
    "# check that vectors are normalized\n",
    "print np.dot(principle_comps,principle_comps.T)"
   ]
  },
  {
   "cell_type": "code",
   "execution_count": 7,
   "metadata": {
    "collapsed": false
   },
   "outputs": [
    {
     "name": "stdout",
     "output_type": "stream",
     "text": [
      "component 1:  [ 0.31031726 -0.13361454 -0.94119623] \n",
      "\n",
      "0.344841367698\n",
      "bcd:  [-0.          0.58140258 -0.08253734] \n",
      "\n",
      "aa is 0.655159 \n",
      "\n",
      "a is 0.809419 \n",
      "\n",
      "aa is 0.655159 \n",
      "\n",
      "a is 0.809419 \n",
      "\n",
      "[[  1.00000000e+00   2.77555756e-17   1.66533454e-16]\n",
      " [ -2.77555756e-16  -7.89981116e-01   6.13131174e-01]]\n"
     ]
    }
   ],
   "source": [
    "# get the angle between two vectors, component 1 from PCA, and x-axis (1,0,0)\n",
    "# but really we're getting sin(theta/2)\n",
    "# https://en.wikipedia.org/wiki/Euler%E2%80%93Rodrigues_formula\n",
    "u=principle_comps[0,:]\n",
    "print \"component 1: \",u,\"\\n\"\n",
    "v=np.array([1,0,0])\n",
    "sinHalfAng = math.sqrt((1-np.dot(u,v))/2)\n",
    "\n",
    "# get axis perpendicular to x, u to use as axis of rotation\n",
    "xaxis = -np.cross(u,v)\n",
    "xaxis /= math.sqrt(np.dot(xaxis,xaxis)) # normalize\n",
    "bcd = xaxis * sinHalfAng\n",
    "print np.dot(bcd,bcd)\n",
    "print \"bcd: \",bcd,\"\\n\"\n",
    "\n",
    "# perform rotation\n",
    "scaledx = rotate_frag(scaled, bcd)\n",
    "tmatx = rotate_frag(principle_comps, bcd)\n",
    "print tmatx"
   ]
  },
  {
   "cell_type": "code",
   "execution_count": 11,
   "metadata": {
    "collapsed": false
   },
   "outputs": [
    {
     "name": "stdout",
     "output_type": "stream",
     "text": [
      "component 2:  [ -2.77555756e-16  -7.89981116e-01   6.13131174e-01] \n",
      "\n",
      "0.894990557907\n",
      "bcd:  [  9.46039406e-01  -0.00000000e+00   4.28258575e-16] \n",
      "\n",
      "aa is 0.105009 \n",
      "\n",
      "a is 0.324052 \n",
      "\n",
      "aa is 0.105009 \n",
      "\n",
      "a is 0.324052 \n",
      "\n",
      "[[  1.00000000e+00  -1.97375285e-16   6.61722883e-16]\n",
      " [ -4.93038066e-31   1.00000000e+00   8.88178420e-16]]\n"
     ]
    }
   ],
   "source": [
    "# now do all the same with y-axis (0,1,0)\n",
    "\n",
    "# get rotation angle\n",
    "u=tmatx[1,:]\n",
    "#u=tmatx[1,:]\n",
    "print \"component 2: \",u,\"\\n\"\n",
    "v=np.array([0,1,0])\n",
    "sinHalfAng = math.sqrt((1-np.dot(u,v))/2)\n",
    "\n",
    "# get y axis of rotation\n",
    "yaxis = -np.cross(u,v)\n",
    "yaxis /= math.sqrt(np.dot(yaxis,yaxis)) # normalize\n",
    "bcd = yaxis * sinHalfAng\n",
    "print np.dot(bcd,bcd)\n",
    "print \"bcd: \",bcd,\"\\n\"\n",
    "\n",
    "# perform rotation\n",
    "scaledxy = rotate_frag(scaledx, bcd)\n",
    "tmatxy = rotate_frag(tmatx, bcd)\n",
    "print tmatxy"
   ]
  },
  {
   "cell_type": "code",
   "execution_count": 12,
   "metadata": {
    "collapsed": false
   },
   "outputs": [
    {
     "name": "stdout",
     "output_type": "stream",
     "text": [
      "(13, 3)\n",
      "[[-0.79355846  0.90441846  0.89638   ]\n",
      " [-0.92113846  0.80223846  1.70505   ]\n",
      " [-0.59700846  0.15122846  2.09481   ]\n",
      " [-0.14533846 -0.39753154  1.67585   ]\n",
      " [-0.01779846 -0.29532154  0.86727   ]\n",
      " [-0.34192846  0.35568846  0.47751   ]\n",
      " [-0.12397846  0.31157846 -0.31703   ]\n",
      " [ 0.40041154 -0.74167154  0.31355   ]\n",
      " [ 0.33479154 -0.36662154 -0.41828   ]\n",
      " [ 0.66921154 -0.62444154 -1.12702   ]\n",
      " [ 0.55574154 -0.18961154 -1.81891   ]\n",
      " [ 0.10785154  0.50304846 -1.80206   ]\n",
      " [ 0.87274154 -0.41300154 -2.54712   ]] \n",
      "\n",
      "[[-1.21076782  0.70003504 -0.54332045]\n",
      " [-1.99782253  0.5045887  -0.3916293 ]\n",
      " [-2.17709564 -0.13165008  0.10218089]\n",
      " [-1.56928875 -0.57237402  0.44423937]\n",
      " [-0.78233518 -0.37691207  0.29253685]\n",
      " [-0.60306207  0.25932671 -0.20127334]\n",
      " [ 0.21828337  0.32119484 -0.24929112]\n",
      " [-0.07175937 -0.7081585   0.54961969]\n",
      " [ 0.54656112 -0.27674901  0.21479248]\n",
      " [ 1.35184934 -0.41835167  0.32470085]\n",
      " [ 1.90974229  0.06179664 -0.04796173]\n",
      " [ 1.66234569  0.68355748 -0.53053362]\n",
      " [ 2.72334953 -0.04630406  0.03593943]] \n",
      "\n",
      "[[ -1.21076782e+00  -8.86141165e-01  -4.11448929e-07]\n",
      " [ -1.99782253e+00  -6.38735680e-01   6.91157507e-07]\n",
      " [ -2.17709564e+00   1.66651362e-01  -2.20388262e-06]\n",
      " [ -1.56928875e+00   7.24541671e-01  -3.57495102e-07]\n",
      " [ -7.82335177e-01   4.77116883e-01  -2.04652027e-06]\n",
      " [ -6.03062068e-01  -3.28270159e-01   8.48519858e-07]\n",
      " [  2.18283373e-01  -4.06586014e-01   7.05308269e-07]\n",
      " [ -7.17593669e-02   8.96420809e-01   4.88165287e-06]\n",
      " [  5.46561122e-01   3.50322458e-01   1.43880008e-06]\n",
      " [  1.35184934e+00   5.29574130e-01  -3.08607205e-06]\n",
      " [  1.90974229e+00  -7.82250099e-02  -5.89937354e-07]\n",
      " [  1.66234569e+00  -8.65284202e-01   1.14147894e-06]\n",
      " [  2.72334953e+00   5.86149161e-02  -1.01156122e-06]] \n",
      "\n"
     ]
    }
   ],
   "source": [
    "print scaled.shape\n",
    "print scaled,'\\n'\n",
    "print scaledx,'\\n'\n",
    "print scaledxy,'\\n'"
   ]
  }
 ],
 "metadata": {
  "anaconda-cloud": {},
  "kernelspec": {
   "display_name": "Python [conda env:py27]",
   "language": "python",
   "name": "conda-env-py27-py"
  },
  "language_info": {
   "codemirror_mode": {
    "name": "ipython",
    "version": 2
   },
   "file_extension": ".py",
   "mimetype": "text/x-python",
   "name": "python",
   "nbconvert_exporter": "python",
   "pygments_lexer": "ipython2",
   "version": "2.7.13"
  }
 },
 "nbformat": 4,
 "nbformat_minor": 1
}
